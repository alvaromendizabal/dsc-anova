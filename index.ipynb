{
 "cells": [
  {
   "cell_type": "markdown",
   "metadata": {},
   "source": [
    "# ANOVA \n",
    "\n",
    "## Introduction\n",
    "\n",
    "ANOVA (Analysis of Variance) is a method for generalizing statistical tests to multiple groups. As you'll see, ANOVA  analyses the overall variance of a dataset by partitioning the total sum of squared deviations (from the mean) into the sum of squares for each of these groups and sum of squares for error. By comparing the statistical test for multiple groups, it can serve as a useful alternative to the t-tests you've encountered thus far when you wish to test multiple factors simultaneously.\n",
    "\n",
    "## Objectives\n",
    "\n",
    "You will be able to:\n",
    "- Explain the methodology behind ANOVA tests \n",
    "- Use ANOVA for testing multiple pairwise comparisons \n",
    "\n",
    "\n",
    "## Explanation of ANOVA\n",
    "\n",
    "To perform ANOVA, you begin with sample observations from multiple groups. Since ANOVA is looking to explain the total variance as combinations of variance from the various groups, you typically design a multiple groups experiment to test various independent factors that we hypothesize may influence the overall result. For example, imagine an email campaign designed to optimize donation contributions. In order to get the most money in donations, one might send out two different emails, both copies being identical except for the subject line. This would form a sensible hypothesis test, but if you wanted to test multiple changes simultaneously, swapping out subject line, time sent, thank you gift offers, or other details in the email campaign, then ANOVA would be a more appropriate methodology. In this scenario, you would change one or more of these various features and record the various donations. Once you have sample observations from various combinations of these features, you can then use ANOVA to analyze and compare the effectiveness of the individual features themselves.  "
   ]
  },
  {
   "cell_type": "markdown",
   "metadata": {},
   "source": [
    "The general idea is to break the sum of squared deviations into multiple parts: the sum of squared deviations of the mean of each of the test groups to the observations within the group itself, and the sum of squared deviations of the mean of these test groups to the mean of all observations. \n",
    "\n",
    "This is easier to understand through the context of an example. For the email case described above, ANOVA would compare the variance of donations within each of the groups to the overall variance of all donations (or lack thereof) as a whole. If the variance of a single group's donations versus that of the overall sample is substantial, there is reason to reject the null hypothesis for that feature. This forms the foundation of the f-test which is at the heart of ANOVA. \n",
    "\n",
    "Recall that you would not perform multiple t-tests with such a scenario because of the multiple comparisons problem. Type I errors will be confounded when conducting multiple t-tests. While the alpha threshold for any one test might be 0.05, it would not be surprising to reject the null hypothesis in at least one of these cases, just by pure chance, if you conduct 5 or 10 t-tests."
   ]
  },
  {
   "cell_type": "markdown",
   "metadata": {},
   "source": [
    "## ANOVA in Python"
   ]
  },
  {
   "cell_type": "code",
   "execution_count": 1,
   "metadata": {},
   "outputs": [],
   "source": [
    "import numpy as np\n",
    "import pandas as pd\n",
    "import scipy.stats as stats\n",
    "import statsmodels.api as sm\n",
    "from statsmodels.formula.api import ols\n",
    "import matplotlib.pyplot as plt\n",
    "import seaborn as sns"
   ]
  },
  {
   "cell_type": "code",
   "execution_count": 2,
   "metadata": {},
   "outputs": [],
   "source": [
    "np.random.seed(12)\n",
    "races = [\"asian\",\n",
    "         \"black\",\n",
    "         \"latino\",\n",
    "         \"other\",\n",
    "         \"white\"]"
   ]
  },
  {
   "cell_type": "code",
   "execution_count": 3,
   "metadata": {},
   "outputs": [],
   "source": [
    "# Generate random data\n",
    "voter_race = np.random.choice(a=races,\n",
    "                              p= [.05, .15, .25, .05, .50],\n",
    "                              size=1000)\n",
    "\n",
    "voter_age = stats.poisson.rvs(loc=18,\n",
    "                              mu=30,\n",
    "                              size=1000)\n",
    "\n",
    "white_ages = stats.poisson.rvs(loc=18,\n",
    "                              mu=32,\n",
    "                              size=1000)\n",
    "\n",
    "voter_age = np.where(voter_race==\"white\", white_ages, voter_age)"
   ]
  },
  {
   "cell_type": "code",
   "execution_count": 4,
   "metadata": {},
   "outputs": [],
   "source": [
    "#Group age data by race\n",
    "voter_frame = pd.DataFrame({\"race\":voter_race, \"age\":voter_age})\n",
    "groups = voter_frame.groupby(\"race\").groups"
   ]
  },
  {
   "cell_type": "code",
   "execution_count": 5,
   "metadata": {},
   "outputs": [],
   "source": [
    "# Extrace individual groups\n",
    "asian = voter_age[groups[\"asian\"]]\n",
    "black = voter_age[groups[\"black\"]]\n",
    "latino = voter_age[groups[\"latino\"]]\n",
    "other = voter_age[groups[\"other\"]]\n",
    "white = voter_age[groups[\"white\"]]"
   ]
  },
  {
   "cell_type": "code",
   "execution_count": 6,
   "metadata": {},
   "outputs": [
    {
     "data": {
      "text/plain": [
       "F_onewayResult(statistic=7.4271920337466195, pvalue=6.7833894514446805e-06)"
      ]
     },
     "execution_count": 6,
     "metadata": {},
     "output_type": "execute_result"
    }
   ],
   "source": [
    "# Perform the ANOVA\n",
    "stats.f_oneway(asian, black, latino, other, white)"
   ]
  },
  {
   "cell_type": "code",
   "execution_count": 9,
   "metadata": {},
   "outputs": [
    {
     "name": "stdout",
     "output_type": "stream",
     "text": [
      "                sum_sq     df         F    PR(>F)\n",
      "race        994.148262    4.0  7.427192  0.000007\n",
      "Residual  33295.810738  995.0       NaN       NaN\n"
     ]
    }
   ],
   "source": [
    "# model formula\n",
    "model = ols ('age ~ race',\n",
    "             data = voter_frame).fit()\n",
    "\n",
    "anova_result = sm.stats.anova_lm(model, typ=2)\n",
    "print(anova_result)"
   ]
  },
  {
   "cell_type": "code",
   "execution_count": 8,
   "metadata": {},
   "outputs": [
    {
     "name": "stdout",
     "output_type": "stream",
     "text": [
      "asian black\n",
      "Ttest_indResult(statistic=1.4723166654510063, pvalue=0.14259864916065687)\n",
      "asian latino\n",
      "Ttest_indResult(statistic=0.7952576949464497, pvalue=0.42712310624411387)\n",
      "asian other\n",
      "Ttest_indResult(statistic=0.023943564194904926, pvalue=0.9809494819541007)\n",
      "asian white\n",
      "Ttest_indResult(statistic=-1.18251598036141, pvalue=0.23750555863255032)\n",
      "asian black\n",
      "Ttest_indResult(statistic=1.4723166654510063, pvalue=0.14259864916065687)\n",
      "asian latino\n",
      "Ttest_indResult(statistic=0.7952576949464497, pvalue=0.42712310624411387)\n",
      "asian other\n",
      "Ttest_indResult(statistic=0.023943564194904926, pvalue=0.9809494819541007)\n",
      "asian white\n",
      "Ttest_indResult(statistic=-1.18251598036141, pvalue=0.23750555863255032)\n",
      "black latino\n",
      "Ttest_indResult(statistic=-0.9779887872139286, pvalue=0.328687679434698)\n",
      "black other\n",
      "Ttest_indResult(statistic=-1.537940275215305, pvalue=0.12568427083007871)\n",
      "black white\n",
      "Ttest_indResult(statistic=-4.487205124154574, pvalue=8.51322589330273e-06)\n",
      "asian black\n",
      "Ttest_indResult(statistic=1.4723166654510063, pvalue=0.14259864916065687)\n",
      "asian latino\n",
      "Ttest_indResult(statistic=0.7952576949464497, pvalue=0.42712310624411387)\n",
      "asian other\n",
      "Ttest_indResult(statistic=0.023943564194904926, pvalue=0.9809494819541007)\n",
      "asian white\n",
      "Ttest_indResult(statistic=-1.18251598036141, pvalue=0.23750555863255032)\n",
      "black latino\n",
      "Ttest_indResult(statistic=-0.9779887872139286, pvalue=0.328687679434698)\n",
      "black other\n",
      "Ttest_indResult(statistic=-1.537940275215305, pvalue=0.12568427083007871)\n",
      "black white\n",
      "Ttest_indResult(statistic=-4.487205124154574, pvalue=8.51322589330273e-06)\n",
      "latino other\n",
      "Ttest_indResult(statistic=-0.8181367221979297, pvalue=0.41394624196541574)\n",
      "latino white\n",
      "Ttest_indResult(statistic=-4.030876548650923, pvalue=6.119014693132567e-05)\n",
      "asian black\n",
      "Ttest_indResult(statistic=1.4723166654510063, pvalue=0.14259864916065687)\n",
      "asian latino\n",
      "Ttest_indResult(statistic=0.7952576949464497, pvalue=0.42712310624411387)\n",
      "asian other\n",
      "Ttest_indResult(statistic=0.023943564194904926, pvalue=0.9809494819541007)\n",
      "asian white\n",
      "Ttest_indResult(statistic=-1.18251598036141, pvalue=0.23750555863255032)\n",
      "black latino\n",
      "Ttest_indResult(statistic=-0.9779887872139286, pvalue=0.328687679434698)\n",
      "black other\n",
      "Ttest_indResult(statistic=-1.537940275215305, pvalue=0.12568427083007871)\n",
      "black white\n",
      "Ttest_indResult(statistic=-4.487205124154574, pvalue=8.51322589330273e-06)\n",
      "latino other\n",
      "Ttest_indResult(statistic=-0.8181367221979297, pvalue=0.41394624196541574)\n",
      "latino white\n",
      "Ttest_indResult(statistic=-4.030876548650923, pvalue=6.119014693132567e-05)\n",
      "other white\n",
      "Ttest_indResult(statistic=-1.2905644671615777, pvalue=0.19738448609736078)\n",
      "asian black\n",
      "Ttest_indResult(statistic=1.4723166654510063, pvalue=0.14259864916065687)\n",
      "asian latino\n",
      "Ttest_indResult(statistic=0.7952576949464497, pvalue=0.42712310624411387)\n",
      "asian other\n",
      "Ttest_indResult(statistic=0.023943564194904926, pvalue=0.9809494819541007)\n",
      "asian white\n",
      "Ttest_indResult(statistic=-1.18251598036141, pvalue=0.23750555863255032)\n",
      "black latino\n",
      "Ttest_indResult(statistic=-0.9779887872139286, pvalue=0.328687679434698)\n",
      "black other\n",
      "Ttest_indResult(statistic=-1.537940275215305, pvalue=0.12568427083007871)\n",
      "black white\n",
      "Ttest_indResult(statistic=-4.487205124154574, pvalue=8.51322589330273e-06)\n",
      "latino other\n",
      "Ttest_indResult(statistic=-0.8181367221979297, pvalue=0.41394624196541574)\n",
      "latino white\n",
      "Ttest_indResult(statistic=-4.030876548650923, pvalue=6.119014693132567e-05)\n",
      "other white\n",
      "Ttest_indResult(statistic=-1.2905644671615777, pvalue=0.19738448609736078)\n"
     ]
    }
   ],
   "source": [
    "race_pairs = []\n",
    "\n",
    "for race1 in range(len(races)):\n",
    "    for race2 in range(race1+1, len(races)):\n",
    "        race_pairs.append((races[race1], races[race2]))\n",
    "    \n",
    "    # Conduct t-text on each pair\n",
    "    for race1, race2 in race_pairs:\n",
    "        print(race1, race2)\n",
    "        print(stats.ttest_ind(voter_age[groups[race1]],\n",
    "                             voter_age[groups[race2]]))"
   ]
  },
  {
   "cell_type": "code",
   "execution_count": 11,
   "metadata": {},
   "outputs": [
    {
     "data": {
      "text/html": [
       "<table class=\"simpletable\">\n",
       "<caption>Multiple Comparison of Means - Tukey HSD, FWER=0.05</caption>\n",
       "<tr>\n",
       "  <th>group1</th> <th>group2</th> <th>meandiff</th>  <th>p-adj</th>  <th>lower</th>   <th>upper</th> <th>reject</th>\n",
       "</tr>\n",
       "<tr>\n",
       "   <td>asian</td>  <td>black</td>  <td>-1.3353</td> <td>0.6641</td> <td>-4.0519</td> <td>1.3812</td>  <td>False</td>\n",
       "</tr>\n",
       "<tr>\n",
       "   <td>asian</td> <td>latino</td>  <td>-0.7593</td> <td>0.9302</td> <td>-3.3485</td> <td>1.8299</td>  <td>False</td>\n",
       "</tr>\n",
       "<tr>\n",
       "   <td>asian</td>  <td>other</td>  <td>-0.0264</td>   <td>1.0</td>  <td>-3.2941</td> <td>3.2413</td>  <td>False</td>\n",
       "</tr>\n",
       "<tr>\n",
       "   <td>asian</td>  <td>white</td>   <td>1.102</td>  <td>0.7439</td> <td>-1.3809</td> <td>3.5849</td>  <td>False</td>\n",
       "</tr>\n",
       "<tr>\n",
       "   <td>black</td> <td>latino</td>   <td>0.576</td>  <td>0.8756</td> <td>-1.0745</td> <td>2.2266</td>  <td>False</td>\n",
       "</tr>\n",
       "<tr>\n",
       "   <td>black</td>  <td>other</td>   <td>1.309</td>  <td>0.6393</td> <td>-1.2791</td> <td>3.8971</td>  <td>False</td>\n",
       "</tr>\n",
       "<tr>\n",
       "   <td>black</td>  <td>white</td>  <td>2.4373</td>  <td>0.0001</td> <td>0.9591</td>  <td>3.9156</td>  <td>True</td> \n",
       "</tr>\n",
       "<tr>\n",
       "  <td>latino</td>  <td>other</td>   <td>0.733</td>  <td>0.9257</td> <td>-1.7211</td>  <td>3.187</td>  <td>False</td>\n",
       "</tr>\n",
       "<tr>\n",
       "  <td>latino</td>  <td>white</td>  <td>1.8613</td>  <td>0.0004</td> <td>0.6327</td>  <td>3.0899</td>  <td>True</td> \n",
       "</tr>\n",
       "<tr>\n",
       "   <td>other</td>  <td>white</td>  <td>1.1283</td>  <td>0.6808</td> <td>-1.2133</td>  <td>3.47</td>   <td>False</td>\n",
       "</tr>\n",
       "</table>"
      ],
      "text/plain": [
       "<class 'statsmodels.iolib.table.SimpleTable'>"
      ]
     },
     "execution_count": 11,
     "metadata": {},
     "output_type": "execute_result"
    },
    {
     "data": {
      "image/png": "[encoded data removed]",
      "text/plain": [
       "<Figure size 720x432 with 1 Axes>"
      ]
     },
     "metadata": {
      "needs_background": "light"
     },
     "output_type": "display_data"
    }
   ],
   "source": [
    "from statsmodels.stats.multicomp import pairwise_tukeyhsd\n",
    "\n",
    "tukey = pairwise_tukeyhsd(endog=voter_age,  # data\n",
    "                         groups=voter_race, # groups\n",
    "                         alpha=.05)         # significane level\n",
    "\n",
    "tukey.plot_simultaneous() # Plot group confidence intervals\n",
    "plt.vlines(x=49.57, ymin=-.5, ymax=4.5, color='red')\n",
    "\n",
    "tukey.summary()           # See test summary"
   ]
  },
  {
   "cell_type": "markdown",
   "metadata": {},
   "source": [
    "## Loading the data\n",
    "\n",
    "As usual, we start by loading in a dataset of our sample observations. This particular table is of salaries in IT and has 4 columns:\n",
    "* S - the individuals salary\n",
    "* X - years of experience\n",
    "* E - education level (1-Bachelors, 2-Masters, 3-PHD)\n",
    "* M - management (0-no management, 1-yes management)"
   ]
  },
  {
   "cell_type": "code",
   "execution_count": 12,
   "metadata": {},
   "outputs": [
    {
     "data": {
      "text/html": [
       "<div>\n",
       "<style scoped>\n",
       "    .dataframe tbody tr th:only-of-type {\n",
       "        vertical-align: middle;\n",
       "    }\n",
       "\n",
       "    .dataframe tbody tr th {\n",
       "        vertical-align: top;\n",
       "    }\n",
       "\n",
       "    .dataframe thead th {\n",
       "        text-align: right;\n",
       "    }\n",
       "</style>\n",
       "<table border=\"1\" class=\"dataframe\">\n",
       "  <thead>\n",
       "    <tr style=\"text-align: right;\">\n",
       "      <th></th>\n",
       "      <th>S</th>\n",
       "      <th>X</th>\n",
       "      <th>E</th>\n",
       "      <th>M</th>\n",
       "    </tr>\n",
       "  </thead>\n",
       "  <tbody>\n",
       "    <tr>\n",
       "      <th>0</th>\n",
       "      <td>13876</td>\n",
       "      <td>1</td>\n",
       "      <td>1</td>\n",
       "      <td>1</td>\n",
       "    </tr>\n",
       "    <tr>\n",
       "      <th>1</th>\n",
       "      <td>11608</td>\n",
       "      <td>1</td>\n",
       "      <td>3</td>\n",
       "      <td>0</td>\n",
       "    </tr>\n",
       "    <tr>\n",
       "      <th>2</th>\n",
       "      <td>18701</td>\n",
       "      <td>1</td>\n",
       "      <td>3</td>\n",
       "      <td>1</td>\n",
       "    </tr>\n",
       "    <tr>\n",
       "      <th>3</th>\n",
       "      <td>11283</td>\n",
       "      <td>1</td>\n",
       "      <td>2</td>\n",
       "      <td>0</td>\n",
       "    </tr>\n",
       "    <tr>\n",
       "      <th>4</th>\n",
       "      <td>11767</td>\n",
       "      <td>1</td>\n",
       "      <td>3</td>\n",
       "      <td>0</td>\n",
       "    </tr>\n",
       "  </tbody>\n",
       "</table>\n",
       "</div>"
      ],
      "text/plain": [
       "       S  X  E  M\n",
       "0  13876  1  1  1\n",
       "1  11608  1  3  0\n",
       "2  18701  1  3  1\n",
       "3  11283  1  2  0\n",
       "4  11767  1  3  0"
      ]
     },
     "execution_count": 12,
     "metadata": {},
     "output_type": "execute_result"
    }
   ],
   "source": [
    "df = pd.read_csv('IT_salaries.csv')\n",
    "df.head()"
   ]
  },
  {
   "cell_type": "markdown",
   "metadata": {},
   "source": [
    "## Generating the ANOVA table\n",
    "\n",
    "In order to generate the ANOVA table, you first fit a linear model and then generate the table from this object. Our formula will be written as:\n",
    "\n",
    "```Control_Column ~ C(factor_col1) + factor_col2 + C(factor_col3) + ... + X```\n",
    "\n",
    "_We indicate categorical variables by wrapping them with ```C() ```._ "
   ]
  },
  {
   "cell_type": "code",
   "execution_count": 13,
   "metadata": {},
   "outputs": [
    {
     "name": "stdout",
     "output_type": "stream",
     "text": [
      "                sum_sq    df           F        PR(>F)\n",
      "C(E)      9.152624e+07   2.0   43.351589  7.672450e-11\n",
      "C(M)      5.075724e+08   1.0  480.825394  2.901444e-24\n",
      "X         3.380979e+08   1.0  320.281524  5.546313e-21\n",
      "Residual  4.328072e+07  41.0         NaN           NaN\n"
     ]
    }
   ],
   "source": [
    "formula = 'S ~ C(E) + C(M) + X'\n",
    "lm = ols(formula, df).fit()\n",
    "table = sm.stats.anova_lm(lm, typ=2)\n",
    "print(table)"
   ]
  },
  {
   "cell_type": "markdown",
   "metadata": {},
   "source": [
    "## Interpreting the table\n",
    "\n",
    "For now, simply focus on the outermost columns. On the left, you can see our various groups, and on the right, the probability that the factor is indeed influential. Values less than 0.05 (or whatever we set $\\alpha$ to) indicate rejection of the null hypothesis. In this case, notice that all three factors appear influential, with management being the potentially most significant, followed by years experience, and finally, educational degree."
   ]
  },
  {
   "cell_type": "markdown",
   "metadata": {},
   "source": [
    "## Summary\n",
    "\n",
    "In this lesson, you examined the ANOVA technique to generalize testing methods to multiple groups and factors."
   ]
  }
 ],
 "metadata": {
  "kernelspec": {
   "display_name": "Python (learn-env)",
   "language": "python",
   "name": "learn-env"
  },
  "language_info": {
   "codemirror_mode": {
    "name": "ipython",
    "version": 3
   },
   "file_extension": ".py",
   "mimetype": "text/x-python",
   "name": "python",
   "nbconvert_exporter": "python",
   "pygments_lexer": "ipython3",
   "version": "3.9.12"
  }
 },
 "nbformat": 4,
 "nbformat_minor": 2
}
